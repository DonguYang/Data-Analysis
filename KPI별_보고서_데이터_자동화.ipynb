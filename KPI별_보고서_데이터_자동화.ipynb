{
  "cells": [
    {
      "cell_type": "markdown",
      "metadata": {
        "id": "view-in-github",
        "colab_type": "text"
      },
      "source": [
        "<a href=\"https://colab.research.google.com/github/DonguYang/Data-Analysis/blob/circleci-project-setup/%08KPI%EB%B3%84_%EB%B3%B4%EA%B3%A0%EC%84%9C_%EB%8D%B0%EC%9D%B4%ED%84%B0_%EC%9E%90%EB%8F%99%ED%99%94.ipynb\" target=\"_parent\"><img src=\"https://colab.research.google.com/assets/colab-badge.svg\" alt=\"Open In Colab\"/></a>"
      ]
    },
    {
      "cell_type": "code",
      "execution_count": null,
      "metadata": {
        "id": "duFAgi4fNte9"
      },
      "outputs": [],
      "source": [
        "# 노출수, 클릭수, 소진금액, 전환수, 평균구매액, 세션매출, 직접매출, 총매출"
      ]
    },
    {
      "cell_type": "code",
      "execution_count": null,
      "metadata": {
        "id": "5jtIMIOmNtfA"
      },
      "outputs": [],
      "source": [
        "import pandas as pd\n",
        "from datetime import date, timedelta, datetime\n",
        "from oauth2client.service_account import ServiceAccountCredentials\n",
        "import gspread\n",
        "import pymysql\n",
        "from sqlalchemy import create_engine, text\n",
        "import time\n"
      ]
    },
    {
      "cell_type": "code",
      "execution_count": null,
      "metadata": {
        "id": "GQSAPwvKNtfA"
      },
      "outputs": [],
      "source": [
        "scope = ['https://www.googleapis.com/auth/spreadsheets', 'https://www.googleapis.com/auth/drive']  # 필요한 스코프 추가\n",
        "creds = ServiceAccountCredentials.from_json_keyfile_name('C:/Users/enliple/Desktop/python1/gspread-407309-1bab071f32e2.json', scope)\n",
        "client = gspread.authorize(creds)\n"
      ]
    },
    {
      "cell_type": "code",
      "execution_count": null,
      "metadata": {
        "id": "Etd47hayNtfB"
      },
      "outputs": [],
      "source": [
        "code = [\n",
        "    35849, 35848, 35847, 35846, 35845, 35844, 35843, 35842, 35841, 35840,\n",
        "    35839, 35838, 35855, 35852, 35854, 35862, 35864, 35863, 35861, 35860,\n",
        "    35859, 35858, 35857, 35856, 35853, 35851, 35850, 36381, 36380, 36379,\n",
        "    36365, 36378, 36377, 36376, 36364, 36375, 36374, 36373, 36363, 36386,\n",
        "    36388, 36383, 36387, 36394, 36396, 36392, 36395, 36400\n",
        "]\n",
        "\n",
        "code_str = ', '.join(str(num) for num in code)\n"
      ]
    },
    {
      "cell_type": "code",
      "execution_count": null,
      "metadata": {
        "id": "3POf1dQSNtfB"
      },
      "outputs": [],
      "source": [
        "# dreamsearch를 사용할 시, db 부분을 바꾼 코드 별도의 코드 추가\n",
        "\n",
        "host = \"192.168.2.82\"\n",
        "user = \"duyang\"\n",
        "password = \"duyang2023!\"\n",
        "db = \"BILLING\"\n",
        "charset = \"utf8\"\n",
        "\n",
        "db_uri = f\"mysql+pymysql://{user}:{password}@{host}/{db}?charset={charset}\"\n",
        "engine = create_engine(db_uri)"
      ]
    },
    {
      "cell_type": "code",
      "execution_count": null,
      "metadata": {
        "id": "VjBYenc3NtfB",
        "outputId": "120fb54c-63f2-40e9-a0f2-2197059c34b1"
      },
      "outputs": [
        {
          "data": {
            "text/plain": [
              "['20231216', '20231217', '20231218']"
            ]
          },
          "execution_count": 6,
          "metadata": {},
          "output_type": "execute_result"
        }
      ],
      "source": [
        "today = datetime.today() - timedelta(1)\n",
        "\n",
        "# 3일 전부터 오늘까지의 날짜를 갖는 리스트 생성\n",
        "date_list = [(today - timedelta(days=i)).strftime(\"%Y%m%d\") for i in range(2, -1, -1)]\n",
        "\n",
        "date_list"
      ]
    },
    {
      "cell_type": "code",
      "execution_count": null,
      "metadata": {
        "id": "K03pjy8TNtfC",
        "outputId": "99bee4c3-f177-48c2-bb56-8cddff427c88"
      },
      "outputs": [
        {
          "data": {
            "text/plain": [
              "(135, 9)"
            ]
          },
          "execution_count": 10,
          "metadata": {},
          "output_type": "execute_result"
        }
      ],
      "source": [
        "# DB에서 데이터 받아오기(오늘 기준 4일치 데이터를 매번 갱신)\n",
        "\n",
        "# 오늘의 데이터를 받아오기 위한 것\n",
        "\n",
        "query1 = f\"\"\"\n",
        "    SELECT\n",
        "        KPI_NO,\n",
        "        STATS_DTTM,\n",
        "        SUM(TOT_EPRS_CNT) AS TOT_EPRS_CNT,\n",
        "        SUM(CLICK_CNT) AS CLICK_CNT,\n",
        "        SUM(ADVRTS_AMT) AS ADVRTS_AMT\n",
        "    FROM MOB_KPI_STATS\n",
        "    WHERE STATS_DTTM IN ({', '.join(date_list)})\n",
        "        AND KPI_NO IN ({code_str})\n",
        "    GROUP BY KPI_NO, STATS_DTTM\n",
        "\"\"\"\n",
        "\n",
        "df1= pd.read_sql(query1, con=engine)\n",
        "\n",
        "# 매출관련 불러오기\n",
        "\n",
        "\n",
        "\n",
        "query2 = f\"\"\"\n",
        "    SELECT KPI_NO, STATS_DTTM\n",
        "                    , SUM(ORDER_CNT) AS ORDER_CNT\n",
        "                    , SUM(ORDER_AMT) AS TOTAL_SALES\n",
        "                    , SUM(IF(SESION_SELNG_YN = 'Y', ORDER_AMT,0)) AS SESSION_SALES\n",
        "                    , SUM(IF(DIRECT_YN = 'Y', ORDER_AMT,0)) AS DIRECT_SALES\n",
        "      FROM MOB_CNVRS_RENEW_KPI_STATS\n",
        "     WHERE STATS_DTTM IN ({', '.join(date_list)})\n",
        "       AND KPI_NO IN ({code_str})\n",
        "GROUP BY STATS_DTTM, KPI_NO\n",
        "\n",
        "\"\"\"\n",
        "df2 = pd.read_sql(query2, con=engine)\n",
        "\n",
        "table1 = pd.merge(df1, df2, on=['KPI_NO', 'STATS_DTTM'], how='outer')\n",
        "\n",
        "table1 = table1.fillna(0)\n",
        "\n",
        "table1.shape"
      ]
    },
    {
      "cell_type": "code",
      "execution_count": null,
      "metadata": {
        "id": "xjmQ12HfNtfD",
        "outputId": "8d373bef-65c4-47e2-fee8-ea5bb58a13df"
      },
      "outputs": [
        {
          "data": {
            "text/plain": [
              "STATS_DTTM\n",
              "20231216    45\n",
              "20231217    45\n",
              "20231218    45\n",
              "Name: count, dtype: int64"
            ]
          },
          "execution_count": 159,
          "metadata": {},
          "output_type": "execute_result"
        }
      ],
      "source": [
        "table1.STATS_DTTM.value_counts()"
      ]
    },
    {
      "cell_type": "code",
      "execution_count": null,
      "metadata": {
        "id": "iIUspYlGNtfD",
        "outputId": "fc0ec3e7-03d2-4f21-af52-fb0696c45529"
      },
      "outputs": [
        {
          "name": "stdout",
          "output_type": "stream",
          "text": [
            "45\n",
            "45\n",
            "45\n"
          ]
        }
      ],
      "source": [
        "for i in date_list:\n",
        "    print(table1[table1['STATS_DTTM'] == int(i)].shape[0])"
      ]
    },
    {
      "cell_type": "code",
      "execution_count": null,
      "metadata": {
        "id": "TLSI5LPhNtfD"
      },
      "outputs": [],
      "source": [
        "code_str = [str(i) for i in code]"
      ]
    },
    {
      "cell_type": "code",
      "execution_count": null,
      "metadata": {
        "id": "7BhMumFENtfD",
        "outputId": "52442311-a8c7-4666-dff6-4ccd8045e16b"
      },
      "outputs": [
        {
          "data": {
            "text/plain": [
              "(144, 9)"
            ]
          },
          "execution_count": 18,
          "metadata": {},
          "output_type": "execute_result"
        }
      ],
      "source": [
        "# table 정렬\n",
        "code_int = [int(code_val) for code_val in code_str]\n",
        "missing_kpi_no = [kpi_no for kpi_no in code_int if kpi_no not in table1['KPI_NO'].values]\n",
        "missing_kpi_no_count = len(missing_kpi_no)\n",
        "\n",
        "if missing_kpi_no:\n",
        "    new_rows = []\n",
        "    for kpi_no in missing_kpi_no:\n",
        "        new_row = {'KPI_NO': kpi_no, 'STATS_DTTM': 0, 'TOT_EPRS_CNT': 0, 'CLICK_CNT': 0, 'ADVRTS_AMT': 0, 'ORDER_CNT': 0, 'TOTAL_SALES': 0, 'SESSION_SALES': 0, 'DIRECT_SALES': 0}\n",
        "        new_rows.append(new_row)\n",
        "\n",
        "    table1 = pd.concat([table1, pd.DataFrame(new_rows)], ignore_index=True)\n",
        "\n",
        "table1 = table1.set_index('KPI_NO').loc[code_int].reset_index()\n",
        "\n",
        "missing_stats_dttm = table1[table1['STATS_DTTM'] == 0]\n",
        "\n",
        "# 3개의 누락된 행을 9개로 확장\n",
        "missing_stats_dttm_expanded = pd.concat([missing_stats_dttm] * 3).reset_index(drop=True)\n",
        "\n",
        "# date_list를 3개씩 3번 반복하여 9개의 날짜를 생성 (missing value의 갯수에 맞춰 곱해주기)\n",
        "date_list_ex = list(map(int, date_list * missing_kpi_no_count))\n",
        "\n",
        "# 확장된 행에 날짜 데이터 추가\n",
        "missing_stats_dttm_expanded['STATS_DTTM'] = date_list_ex\n",
        "\n",
        "# 기존 행 제거하고 확장된 행 추가\n",
        "table1 = table1[table1['STATS_DTTM'] != 0]\n",
        "table1 = pd.concat([table1, missing_stats_dttm_expanded], ignore_index=True)\n",
        "\n",
        "# 소진금액 소수점 처리\n",
        "table1['ADVRTS_AMT'] = table1['ADVRTS_AMT'].astype(int)\n",
        "\n",
        "table1 = table1.set_index('KPI_NO').loc[code_int].reset_index()\n",
        "\n",
        "table1.shape"
      ]
    },
    {
      "cell_type": "code",
      "execution_count": null,
      "metadata": {
        "id": "vseDzyZLNtfE",
        "outputId": "9f386f6f-32f5-490c-cd40-55fbc4c4044f"
      },
      "outputs": [
        {
          "name": "stdout",
          "output_type": "stream",
          "text": [
            "48\n",
            "48\n",
            "48\n"
          ]
        }
      ],
      "source": [
        "for i in date_list:\n",
        "    print(table1[table1['STATS_DTTM'] == int(i)].shape[0])"
      ]
    },
    {
      "cell_type": "code",
      "execution_count": null,
      "metadata": {
        "id": "YcySELKsNtfE"
      },
      "outputs": [],
      "source": [
        "table1[table1['STATS_DTTM'] == 20231209].to_excel('table1.xlsx')"
      ]
    },
    {
      "cell_type": "code",
      "execution_count": null,
      "metadata": {
        "id": "S3esk6BYNtfE"
      },
      "outputs": [],
      "source": [
        "sheet_list = ['노출수raw', '클릭수raw','소진금액raw','전환수raw','세션매출raw','직접매출raw','총매출raw']\n",
        "val_list = ['TOT_EPRS_CNT','CLICK_CNT','ADVRTS_AMT','ORDER_CNT','SESSION_SALES','DIRECT_SALES','TOTAL_SALES']\n",
        "data_dict = {sheet_list[i]: val_list[i] for i in range(len(sheet_list))}\n",
        "\n",
        "def write_data_to_sheet(sheet_name, table_data, data_dict, today):\n",
        "    # 클라이언트에서 스프레드시트 가져오기\n",
        "    sheet = client.open('24Q1_어도비_모비온 성과공유').worksheet(sheet_name)\n",
        "\n",
        "    # 3일 전 날짜 계산\n",
        "    start_date = today\n",
        "    base_date = datetime.strptime(\"20231205\", \"%Y%m%d\")\n",
        "\n",
        "    # 선택된 열 범위 설정\n",
        "    start_row = 5\n",
        "    end_row = 52\n",
        "\n",
        "    # 데이터를 스프레드시트에 쓰기\n",
        "    for i in range(3):  # 3일 전부터 오늘까지의 데이터를 처리\n",
        "        selected_date = (start_date + timedelta(days=i-2)).strftime('%Y%m%d')  # 3일 전부터 시작하여 하루씩 증가\n",
        "        selected_column = 2 + i +(start_date - base_date).days\n",
        "\n",
        "        cell_list = sheet.range(f'{chr(65 + selected_column)}{start_row}:{chr(65 + selected_column)}{end_row}')\n",
        "        data_column = data_dict.get(sheet_name)  # 시트 이름을 기반으로 데이터 딕셔너리에서 해당하는 컬럼 선택\n",
        "        data_to_write = table_data[table_data['STATS_DTTM'] == int(selected_date)][data_column]\n",
        "\n",
        "        for j, value in enumerate(data_to_write):\n",
        "            cell_list[j].value = value\n",
        "\n",
        "        sheet.update_cells(cell_list)"
      ]
    },
    {
      "cell_type": "code",
      "execution_count": null,
      "metadata": {
        "id": "o-xlZ7aXNtfE"
      },
      "outputs": [],
      "source": [
        "for sheet_name in sheet_list:\n",
        "        write_data_to_sheet(sheet_name, table1, data_dict, today)"
      ]
    }
  ],
  "metadata": {
    "kernelspec": {
      "display_name": "Python 3 (ipykernel)",
      "language": "python",
      "name": "python3"
    },
    "language_info": {
      "codemirror_mode": {
        "name": "ipython",
        "version": 3
      },
      "file_extension": ".py",
      "mimetype": "text/x-python",
      "name": "python",
      "nbconvert_exporter": "python",
      "pygments_lexer": "ipython3",
      "version": "3.11.5"
    },
    "colab": {
      "provenance": [],
      "include_colab_link": true
    }
  },
  "nbformat": 4,
  "nbformat_minor": 0
}